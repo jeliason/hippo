{
 "cells": [
  {
   "cell_type": "code",
   "execution_count": 1,
   "metadata": {},
   "outputs": [],
   "source": [
    "from scipy.linalg import block_diag\n",
    "from scipy.io import loadmat\n",
    "import autograd.numpy as np\n",
    "import seaborn as sns\n",
    "import matplotlib.pyplot as plt\n",
    "import ssm\n",
    "\n",
    "%matplotlib inline"
   ]
  },
  {
   "cell_type": "code",
   "execution_count": 2,
   "metadata": {},
   "outputs": [],
   "source": [
    "import scipy.io as spio\n",
    "\n",
    "\n",
    "def loadmat(filename):\n",
    "    '''\n",
    "    this function should be called instead of direct spio.loadmat\n",
    "    as it cures the problem of not properly recovering python dictionaries\n",
    "    from mat files. It calls the function check keys to cure all entries\n",
    "    which are still mat-objects\n",
    "    '''\n",
    "    def _check_keys(d):\n",
    "        '''\n",
    "        checks if entries in dictionary are mat-objects. If yes\n",
    "        todict is called to change them to nested dictionaries\n",
    "        '''\n",
    "        for key in d:\n",
    "            if isinstance(d[key], spio.matlab.mio5_params.mat_struct):\n",
    "                d[key] = _todict(d[key])\n",
    "        return d\n",
    "\n",
    "    def _todict(matobj):\n",
    "        '''\n",
    "        A recursive function which constructs from matobjects nested dictionaries\n",
    "        '''\n",
    "        d = {}\n",
    "        for strg in matobj._fieldnames:\n",
    "            elem = matobj.__dict__[strg]\n",
    "            if isinstance(elem, spio.matlab.mio5_params.mat_struct):\n",
    "                d[strg] = _todict(elem)\n",
    "            elif isinstance(elem, np.ndarray):\n",
    "                d[strg] = _tolist(elem)\n",
    "            else:\n",
    "                d[strg] = elem\n",
    "        return d\n",
    "\n",
    "    def _tolist(ndarray):\n",
    "        '''\n",
    "        A recursive function which constructs lists from cellarrays\n",
    "        (which are loaded as numpy ndarrays), recursing into the elements\n",
    "        if they contain matobjects.\n",
    "        '''\n",
    "        elem_list = []\n",
    "        for sub_elem in ndarray:\n",
    "            if isinstance(sub_elem, spio.matlab.mio5_params.mat_struct):\n",
    "                elem_list.append(_todict(sub_elem))\n",
    "            elif isinstance(sub_elem, np.ndarray):\n",
    "                elem_list.append(_tolist(sub_elem))\n",
    "            else:\n",
    "                elem_list.append(sub_elem)\n",
    "        return elem_list\n",
    "    data = spio.loadmat(filename, struct_as_record=False, squeeze_me=True)\n",
    "    return _check_keys(data)"
   ]
  },
  {
   "cell_type": "code",
   "execution_count": 158,
   "metadata": {},
   "outputs": [],
   "source": [
    "num_states = 30\n",
    "obs_dim = 137"
   ]
  },
  {
   "cell_type": "code",
   "execution_count": 32,
   "metadata": {},
   "outputs": [],
   "source": [
    "DATA_PATH = '../'\n",
    "binnedPRE = loadmat(DATA_PATH + 'binnedPBEs_PRE.mat')['binnedPBEs_PRE']\n",
    "binnedRUN = loadmat(DATA_PATH + 'binnedPBEs_RUN.mat')['binnedPBEs_RUN']\n",
    "binnedPOST = loadmat(DATA_PATH + 'binnedPBEs_POST.mat')['binnedPBEs_POST']"
   ]
  },
  {
   "cell_type": "code",
   "execution_count": 29,
   "metadata": {},
   "outputs": [],
   "source": [
    "BDseqscore = loadmat(DATA_PATH + 'BayesianReplayDetection.mat')['BDseqscore']\n",
    "\n",
    "prctilePOST = np.array(BDseqscore['POST']['data']['wPBEtimeswap']['weightedCorr']['prctilescore'])\n",
    "prctilePRE = np.array(BDseqscore['PRE']['data']['wPBEtimeswap']['weightedCorr']['prctilescore'])\n",
    "prctileRUN = np.array(BDseqscore['RUN']['data']['wPBEtimeswap']['weightedCorr']['prctilescore'])\n",
    "del BDseqscore"
   ]
  },
  {
   "cell_type": "code",
   "execution_count": 78,
   "metadata": {},
   "outputs": [],
   "source": [
    "thresholds = [99,98,97,95,90,85,80,70,60,50]\n",
    "\n",
    "# test set creation\n",
    "threshold = 50\n",
    "testDataFrac = 0.25\n",
    "restrictedDataPOST = binnedPOST[np.where(prctilePOST < threshold),:]\n",
    "restrictedDataPRE = binnedPRE[np.where(prctilePRE < threshold),:]\n",
    "restrictedDataRUN = binnedRUN[np.where(prctileRUN < threshold),:]\n",
    "\n",
    "restrictedEvents = np.concatenate((restrictedDataPRE,\n",
    "                    restrictedDataRUN,\n",
    "                    restrictedDataPOST), axis = 1).squeeze()\n",
    "\n",
    "ref50Indices = restrictedEvents[:,2]\n",
    "numTest = int(restrictedEvents.shape[0]*testDataFrac)\n",
    "testPBEIndices = np.random.choice(ref50Indices, numTest)\n",
    "\n",
    "\n",
    "testIndices = testPBEIndices[np.where(np.isin(testPBEIndices, restrictedEvents[:,2]))].astype('uint8')\n",
    "testData = restrictedEvents[testIndices,:]"
   ]
  },
  {
   "cell_type": "code",
   "execution_count": null,
   "metadata": {},
   "outputs": [],
   "source": [
    "hmms = []\n",
    "for threshold in thresholds:\n",
    "    \n",
    "    restrictedDataPOST = binnedPOST[np.where(prctilePOST < threshold),:]\n",
    "    restrictedDataPRE = binnedPRE[np.where(prctilePRE < threshold),:]\n",
    "    restrictedDataRUN = binnedRUN[np.where(prctileRUN < threshold),:]\n",
    "\n",
    "    restrictedEvents = np.concatenate((restrictedDataPRE,\n",
    "                    restrictedDataRUN,\n",
    "                    restrictedDataPOST), axis = 1).squeeze()\n",
    "                    \n",
    "    testIndices = np.where(~np.isin(restrictedEvents[:,2], testPBEIndices))[0]\n",
    "    restrictedEvents = restrictedEvents[testIndices,:];\n",
    "    trainPBEIndices = restrictedEvents[:,2];\n",
    "    \n",
    "    numPBEs = restrictedEvents.shape[0];               \n",
    "    numTrain = int((1-testDataFrac)*numPBEs);\n",
    "    trainData = restrictedEvents[:numTrain];\n",
    "    \n",
    "    d = [x[1].T.astype(np.int8) for x in trainData]\n",
    "    \n",
    "    data = d\n",
    "    N_iters = 50\n",
    "\n",
    "\n",
    "    ## testing the constrained transitions class\n",
    "    hmm = ssm.HMM(num_states, obs_dim, observations=\"poisson\")\n",
    "\n",
    "    hmm_lls = hmm.fit(data, method=\"em\", num_iters=N_iters, init_method=\"kmeans\")\n",
    "    \n",
    "    hmms.append({'thr': threshold, 'hmm': hmm})\n",
    "    "
   ]
  },
  {
   "cell_type": "code",
   "execution_count": 102,
   "metadata": {},
   "outputs": [],
   "source": [
    "import pickle\n",
    "pickle.dump(hmms, open(DATA_PATH + f'HMMtrainingReplayQuality/sameTestData/HMMReplayQuality_ssmpy.pkl', \"wb\" ) )"
   ]
  },
  {
   "cell_type": "code",
   "execution_count": 159,
   "metadata": {},
   "outputs": [],
   "source": [
    "import copy\n",
    "from ssm.util import find_permutation\n",
    "from ssm.plots import gradient_cmap, white_to_color_cmap\n",
    "\n",
    "colors = sns.color_palette(n_colors=num_states)\n",
    "cmap = gradient_cmap(colors)\n",
    "\n",
    "def compare_seq(hmm1, hmm2, obs):\n",
    "    viterbi1 = hmm1.most_likely_states(obs)\n",
    "    viterbi2 = hmm2.most_likely_states(obs)\n",
    "    \n",
    "    hmm2_copy = copy.deepcopy(hmm2)\n",
    "    \n",
    "    hmm2.permute(find_permutation(viterbi1, viterbi2, num_states, num_states))\n",
    "    \n",
    "    # Plot the true and inferred discrete states\n",
    "    time_bins = len(obs)\n",
    "    hmm_z = hmm2.most_likely_states(obs)\n",
    "\n",
    "    plt.figure(figsize=(8, 4))\n",
    "    plt.subplot(211)\n",
    "    plt.imshow(viterbi1[None,:], aspect=\"auto\", cmap=cmap, vmin=0, vmax=len(colors)-1)\n",
    "    plt.xlim(0, time_bins)\n",
    "    plt.ylabel(\"$z_{\\\\mathrm{true}}$\")\n",
    "    plt.yticks([])\n",
    "\n",
    "    plt.subplot(212)\n",
    "    plt.imshow(hmm_z[None,:], aspect=\"auto\", cmap=cmap, vmin=0, vmax=len(colors)-1)\n",
    "    plt.xlim(0, time_bins)\n",
    "    plt.ylabel(\"$z_{\\\\mathrm{inferred}}$\")\n",
    "    plt.yticks([])\n",
    "    plt.xlabel(\"time\")\n",
    "\n",
    "    plt.tight_layout()"
   ]
  },
  {
   "cell_type": "code",
   "execution_count": 161,
   "metadata": {},
   "outputs": [
    {
     "data": {
      "image/png": "[encoded data removed]",
      "text/plain": [
       "<Figure size 576x288 with 2 Axes>"
      ]
     },
     "metadata": {
      "needs_background": "light"
     },
     "output_type": "display_data"
    }
   ],
   "source": [
    "td = [x[1].T.astype(np.int8) for x in testData]\n",
    "\n",
    "obs = td[10]\n",
    "\n",
    "compare_seq(hmms[0]['hmm'], hmms[1]['hmm'], obs)"
   ]
  },
  {
   "cell_type": "code",
   "execution_count": null,
   "metadata": {},
   "outputs": [],
   "source": []
  }
 ],
 "metadata": {
  "kernelspec": {
   "display_name": "Python 3",
   "language": "python",
   "name": "python3"
  },
  "language_info": {
   "codemirror_mode": {
    "name": "ipython",
    "version": 3
   },
   "file_extension": ".py",
   "mimetype": "text/x-python",
   "name": "python",
   "nbconvert_exporter": "python",
   "pygments_lexer": "ipython3",
   "version": "3.6.12"
  }
 },
 "nbformat": 4,
 "nbformat_minor": 4
}
